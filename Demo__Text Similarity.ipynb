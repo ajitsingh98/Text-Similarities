{
 "cells": [
  {
   "cell_type": "markdown",
   "metadata": {},
   "source": [
    "# Sentence Similarity : Demo"
   ]
  },
  {
   "cell_type": "markdown",
   "metadata": {},
   "source": [
    "## Import libraries"
   ]
  },
  {
   "cell_type": "code",
   "execution_count": 1,
   "metadata": {},
   "outputs": [],
   "source": [
    "import os\n",
    "import pandas as pd\n",
    "import numpy as np\n",
    "import tensorflow as tf\n",
    "import matplotlib.pyplot as plt\n",
    "import seaborn as sns\n",
    "from sklearn.metrics.pairwise import cosine_similarity\n",
    "from collections import Counter\n"
   ]
  },
  {
   "cell_type": "markdown",
   "metadata": {},
   "source": [
    "## Data\n",
    "We have a corpus of sentences and a query. The main objective is to find out most similar sentence from the given corpus and print the corresponding cosine similarity with that query."
   ]
  },
  {
   "cell_type": "code",
   "execution_count": 2,
   "metadata": {},
   "outputs": [],
   "source": [
    "# Just for illustration, let\n",
    "sent_corpus = ['How old are you?', 'How are you?', 'What is your name?', 'Where do you live?', 'In which class do you study?']\n",
    "query = \"What is your age?\""
   ]
  },
  {
   "cell_type": "markdown",
   "metadata": {},
   "source": [
    "## Approach\n",
    "Transfer Learning:\n",
    " * Word2Vec + Cosine Similarity\n",
    " * ......"
   ]
  },
  {
   "cell_type": "code",
   "execution_count": 3,
   "metadata": {},
   "outputs": [],
   "source": [
    "# import library for pretrained word embeddings\n",
    "import gensim\n",
    "from gensim.models import KeyedVectors"
   ]
  },
  {
   "cell_type": "code",
   "execution_count": 4,
   "metadata": {},
   "outputs": [
    {
     "name": "stderr",
     "output_type": "stream",
     "text": [
      "C:\\Users\\Ajit kumar Singh\\Anaconda3\\lib\\site-packages\\smart_open\\smart_open_lib.py:402: UserWarning: This function is deprecated, use smart_open.open instead. See the migration notes for details: https://github.com/RaRe-Technologies/smart_open/blob/master/README.rst#migrating-to-the-new-open-function\n",
      "  'See the migration notes for details: %s' % _MIGRATION_NOTES_URL\n"
     ]
    }
   ],
   "source": [
    "# wv_embeddings contain word as a key and embedding vector as a value\n",
    "wv_embeddings = gensim.models.KeyedVectors.load_word2vec_format('GoogleNews-vectors-negative300.bin.gz', binary=True, limit=500000, unicode_errors='ignore')"
   ]
  },
  {
   "cell_type": "code",
   "execution_count": 8,
   "metadata": {},
   "outputs": [
    {
     "data": {
      "text/plain": [
       "gensim.models.keyedvectors.Word2VecKeyedVectors"
      ]
     },
     "execution_count": 8,
     "metadata": {},
     "output_type": "execute_result"
    }
   ],
   "source": []
  },
  {
   "cell_type": "markdown",
   "metadata": {},
   "source": [
    "## Preprocessing"
   ]
  },
  {
   "cell_type": "code",
   "execution_count": 5,
   "metadata": {},
   "outputs": [
    {
     "name": "stderr",
     "output_type": "stream",
     "text": [
      "[nltk_data] Downloading package stopwords to C:\\Users\\Ajit kumar\n",
      "[nltk_data]     Singh\\AppData\\Roaming\\nltk_data...\n",
      "[nltk_data]   Package stopwords is already up-to-date!\n"
     ]
    }
   ],
   "source": [
    "# A function for preprocessing text data\n",
    "import re\n",
    "import nltk\n",
    "nltk.download('stopwords')\n",
    "from nltk.corpus import stopwords\n",
    "def preprocess(raw_text):\n",
    "\n",
    "    # Remove any non-alphabetic characters if any\n",
    "    letters_only_text = re.sub(\"[^a-zA-Z]\", \" \", raw_text)\n",
    "\n",
    "    # convert to lower case and split \n",
    "    words = letters_only_text.lower().split()\n",
    "\n",
    "    # remove stopwords \n",
    "    stopword_set = set(stopwords.words(\"english\"))\n",
    "    cleaned_text = list(set([w for w in words if w not in stopword_set]))\n",
    "\n",
    "    return \" \".join(cleaned_text)\n"
   ]
  },
  {
   "cell_type": "markdown",
   "metadata": {},
   "source": [
    "## From word to sentence embeddings"
   ]
  },
  {
   "cell_type": "code",
   "execution_count": 6,
   "metadata": {},
   "outputs": [],
   "source": [
    "# define a funtion which takes a sentence(question) as input and return average embedding as output\n",
    "def question2vec(question, embeddings = wv_embeddings, dim=300):\n",
    "    \n",
    "    vec = np.zeros((dim,), dtype=np.float32)\n",
    "    count = 0\n",
    "    for w in question.split():\n",
    "        if w in embeddings:\n",
    "            count += 1\n",
    "            vec += embeddings[w]\n",
    "    if count == 0:\n",
    "        return vec\n",
    "    return vec/count  # return mean embedding value"
   ]
  },
  {
   "cell_type": "code",
   "execution_count": 7,
   "metadata": {},
   "outputs": [],
   "source": [
    "# for give corpus and query find out the cosine_similarity\n",
    "similarity_list = []\n",
    "query_embedding = question2vec(preprocess(query))\n",
    "for sent in sent_corpus:\n",
    "    sim = cosine_similarity(query_embedding.reshape(1, -1), question2vec(sent).reshape(1, -1))[0][0]\n",
    "    similarity_list.append(sim)\n",
    "    "
   ]
  },
  {
   "cell_type": "code",
   "execution_count": 9,
   "metadata": {},
   "outputs": [
    {
     "name": "stdout",
     "output_type": "stream",
     "text": [
      "For the give query -> What is your age? most similar question is -> How old are you?\n",
      "Corresponding cosine similarity is  0.30646223\n"
     ]
    }
   ],
   "source": [
    "# print most similar question for the given query\n",
    "max_value = max(similarity_list)\n",
    "print(\"For the give query -> \"+query+\" most similar question is -> \"+sent_corpus[similarity_list.index(max_value)])\n",
    "print(\"Corresponding cosine similarity is \", max_value)"
   ]
  },
  {
   "cell_type": "code",
   "execution_count": null,
   "metadata": {},
   "outputs": [],
   "source": []
  }
 ],
 "metadata": {
  "kernelspec": {
   "display_name": "Python 3",
   "language": "python",
   "name": "python3"
  },
  "language_info": {
   "codemirror_mode": {
    "name": "ipython",
    "version": 3
   },
   "file_extension": ".py",
   "mimetype": "text/x-python",
   "name": "python",
   "nbconvert_exporter": "python",
   "pygments_lexer": "ipython3",
   "version": "3.7.3"
  }
 },
 "nbformat": 4,
 "nbformat_minor": 2
}
